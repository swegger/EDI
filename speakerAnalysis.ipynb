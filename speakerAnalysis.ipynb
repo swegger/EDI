{
 "cells": [
  {
   "cell_type": "code",
   "execution_count": 146,
   "id": "3a424949-23a3-4516-b9cd-0d487468faf0",
   "metadata": {},
   "outputs": [
    {
     "data": {
      "text/plain": [
       "<module 'speakerAnalysis.speakerAnalysisProject' from '/home/seth/analysis/EDI/speakerAnalysis/speakerAnalysisProject.py'>"
      ]
     },
     "execution_count": 146,
     "metadata": {},
     "output_type": "execute_result"
    }
   ],
   "source": [
    "import gspread\n",
    "import pandas as pd\n",
    "import plotly\n",
    "#import plotly.plotly as py\n",
    "\n",
    "from speakerAnalysis import speakerAnalysisProject\n",
    "\n",
    "from importlib import reload\n",
    "reload(speakerAnalysisProject)"
   ]
  },
  {
   "cell_type": "code",
   "execution_count": 125,
   "id": "6a2b8d34-dcc1-4547-98ca-581df15b22bb",
   "metadata": {},
   "outputs": [],
   "source": [
    "key = speakerAnalysisProject.readkeyfile('.keys')"
   ]
  },
  {
   "cell_type": "code",
   "execution_count": 126,
   "id": "0c20e3ca-bf97-4938-8246-1118bc69fe54",
   "metadata": {},
   "outputs": [
    {
     "name": "stdout",
     "output_type": "stream",
     "text": [
      "[['Speaker']]\n"
     ]
    }
   ],
   "source": [
    "# Use gspread api to access spreadsheet\n",
    "gc = gspread.api_key(key[0])\n",
    "\n",
    "sh = gc.open_by_url(\"https://docs.google.com/spreadsheets/d/10vC4mm2HWrlcGIY72Or04t9A3uDUTKhudUAIyPmkF8o/edit?gid=0#gid=0\")\n",
    "\n",
    "print(sh.sheet1.get('A1'))"
   ]
  },
  {
   "cell_type": "code",
   "execution_count": 127,
   "id": "b14cb3e1-587c-41b2-aed9-164a181016bf",
   "metadata": {},
   "outputs": [
    {
     "name": "stdout",
     "output_type": "stream",
     "text": [
      "Index(['Speaker', 'EDI member', 'Date', 'Type', 'CV?', 'UndergraduateName',\n",
      "       'UndergraduateCategory', 'GraduateName', 'GraduateCategory',\n",
      "       'Post-docName', 'Post-docCategory', 'InstitutionName',\n",
      "       'InstitutionCategory', 'Private/Public', 'Ivy/Other'],\n",
      "      dtype='object', name=0)\n"
     ]
    }
   ],
   "source": [
    "# Convert spreadsheet into pandas data frame\n",
    "data = sh.sheet1.get_all_values()\n",
    "headers = data.pop(0)\n",
    "\n",
    "df = speakerAnalysisProject.convertGStoPandas(data,headers)\n",
    "print(df.columns)"
   ]
  },
  {
   "cell_type": "code",
   "execution_count": 128,
   "id": "91c3c98b-a57f-44c6-b349-d8cc1aa09543",
   "metadata": {},
   "outputs": [
    {
     "name": "stdout",
     "output_type": "stream",
     "text": [
      "0.6923076923076923\n",
      "0.5384615384615384\n",
      "0.6538461538461539\n",
      "0.5769230769230769\n",
      "['R1' 'institute' 'special-focus' 'R1 ' 'international']\n"
     ]
    }
   ],
   "source": [
    "# Fraction of entries from an R1 instituion\n",
    "notempty = df['InstitutionCategory']!=''\n",
    "r1 = df['InstitutionCategory'] == 'R1'\n",
    "print(sum(r1)/sum(notempty))\n",
    "\n",
    "# Fraction of entries from an R1 undergraduate\n",
    "notempty = df['Post-docCategory']!=''\n",
    "r1 = df['Post-docCategory'] == 'R1'\n",
    "print(sum(r1)/sum(notempty))\n",
    "\n",
    "# Fraction of entries from an R1 graduate\n",
    "notempty = df['GraduateCategory']!=''\n",
    "r1 = df['GraduateCategory'] == 'R1'\n",
    "print(sum(r1)/sum(notempty))\n",
    "\n",
    "# Fraction of entries from an R1 undergraduate\n",
    "notempty = df['UndergraduateCategory']!=''\n",
    "r1 = df['UndergraduateCategory'] == 'R1'\n",
    "print(sum(r1)/sum(notempty))\n",
    "\n",
    "print(df['InstitutionCategory'].unique())"
   ]
  },
  {
   "cell_type": "code",
   "execution_count": 129,
   "id": "589a07f3-4195-4eb6-ae00-9e922256d066",
   "metadata": {},
   "outputs": [
    {
     "name": "stdout",
     "output_type": "stream",
     "text": [
      "['GraduateCategoryR1', 'GraduateCategoryR2', 'GraduateCategoryinternational', 'GraduateCategoryspecial-focus', 'Post-docCategoryNIH', 'Post-docCategoryR1', 'Post-docCategoryR1,NIH,R1,R1', 'Post-docCategoryinstitute', 'Post-docCategoryinternational', 'Post-docCategoryinternational; R1', 'Post-docCategoryintstitute; R1', 'Post-docCategoryspecial-focus', 'UndergraduateCategory?', 'UndergraduateCategoryR1', 'UndergraduateCategoryR2', 'UndergraduateCategoryinternational', 'UndergraduateCategoryliberal arts', 'UndergraduateCategoryno research', 'InstitutionCategoryR1', 'InstitutionCategoryinternational', 'InstitutionCategoryinstitute', 'InstitutionCategoryspecial-focus', 'InstitutionCategoryR1 ']\n"
     ]
    }
   ],
   "source": [
    "cat_cols=['UndergraduateCategory','GraduateCategory','Post-docCategory','InstitutionCategory']\n",
    "# cats = []\n",
    "# for i in range(len(cat_cols)):\n",
    "#     cats.append(df[cat_cols[i]].unique())\n",
    "#     print(cats[i])\n",
    "    \n",
    "for i in range(len(cat_cols)-1):\n",
    "    if i==0:\n",
    "        sourceTargetDf = df.groupby([cat_cols[i],cat_cols[i+1]]).size().reset_index().rename(columns={0:'count'})\n",
    "        sourceTargetDf.columns = ['source','target','count']\n",
    "        sourceTargetDf['source'] = cat_cols[i] + sourceTargetDf['source'].astype(str)\n",
    "        sourceTargetDf['target'] = cat_cols[i+1] + sourceTargetDf['target'].astype(str)\n",
    "    else:\n",
    "        tempDf = df.groupby([cat_cols[i],cat_cols[i+1]]).size().reset_index().rename(columns={0:'count'})\n",
    "        tempDf.columns = ['source','target','count']\n",
    "        tempDf['source'] = cat_cols[i] + tempDf['source'].astype(str)\n",
    "        tempDf['target'] = cat_cols[i+1] + tempDf['target'].astype(str)\n",
    "        sourceTargetDf = pd.concat([sourceTargetDf,tempDf])\n",
    "    sourceTargetDf = sourceTargetDf.groupby(['source','target']).agg({'count':'sum'}).reset_index()\n",
    "    #print(sourceTargetDf)\n",
    "\n",
    "temp = sourceTargetDf.groupby(['source','target']).size().reset_index().rename(columns={0:'count'})\n",
    "temp = pd.concat([temp['source'],temp['target']])\n",
    "print(list(dict.fromkeys(temp)))\n",
    "# temp2 = df.groupby([cat_cols[1],cat_cols[2]]).size().reset_index().rename(columns={0:'count'})\n",
    "# print(temp2)"
   ]
  },
  {
   "cell_type": "code",
   "execution_count": 148,
   "id": "9a09ddb0-0f04-4142-bd5b-49211d5b77e4",
   "metadata": {},
   "outputs": [
    {
     "data": {
      "text/plain": [
       "'temp-plot.html'"
      ]
     },
     "execution_count": 148,
     "metadata": {},
     "output_type": "execute_result"
    }
   ],
   "source": [
    "fig = speakerAnalysisProject.genSankey(df,cat_cols=['UndergraduateCategory','GraduateCategory','Post-docCategory','InstitutionCategory','Type'],title='Rearch categories')\n",
    "plotly.offline.plot(fig, validate=False)"
   ]
  },
  {
   "cell_type": "code",
   "execution_count": 147,
   "id": "2b3edbda-d78c-42ba-8ffa-b091e159ae76",
   "metadata": {},
   "outputs": [
    {
     "data": {
      "text/plain": [
       "'temp-plot.html'"
      ]
     },
     "execution_count": 147,
     "metadata": {},
     "output_type": "execute_result"
    }
   ],
   "source": [
    "fig = speakerAnalysisProject.genSankey(df,cat_cols=['UndergraduateName','GraduateName','Post-docName','InstitutionName','Type'],title='Institution Names')\n",
    "plotly.offline.plot(fig, validate=False)"
   ]
  },
  {
   "cell_type": "code",
   "execution_count": null,
   "id": "13ff2fcf-65c6-4fac-a51b-50474eb6de36",
   "metadata": {},
   "outputs": [],
   "source": []
  }
 ],
 "metadata": {
  "kernelspec": {
   "display_name": "Python 3 (ipykernel)",
   "language": "python",
   "name": "python3"
  },
  "language_info": {
   "codemirror_mode": {
    "name": "ipython",
    "version": 3
   },
   "file_extension": ".py",
   "mimetype": "text/x-python",
   "name": "python",
   "nbconvert_exporter": "python",
   "pygments_lexer": "ipython3",
   "version": "3.9.5"
  }
 },
 "nbformat": 4,
 "nbformat_minor": 5
}
