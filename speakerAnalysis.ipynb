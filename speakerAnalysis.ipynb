{
 "cells": [
  {
   "cell_type": "code",
   "execution_count": 62,
   "id": "3a424949-23a3-4516-b9cd-0d487468faf0",
   "metadata": {},
   "outputs": [
    {
     "data": {
      "text/plain": [
       "<module 'speakerAnalysis.speakerAnalysisProject' from '/home/seth/analysis/EDI/speakerAnalysis/speakerAnalysisProject.py'>"
      ]
     },
     "execution_count": 62,
     "metadata": {},
     "output_type": "execute_result"
    }
   ],
   "source": [
    "import gspread\n",
    "import pandas as pd\n",
    "\n",
    "from speakerAnalysis import speakerAnalysisProject\n",
    "\n",
    "from importlib import reload\n",
    "reload(speakerAnalysisProject)"
   ]
  },
  {
   "cell_type": "code",
   "execution_count": 51,
   "id": "6a2b8d34-dcc1-4547-98ca-581df15b22bb",
   "metadata": {},
   "outputs": [],
   "source": [
    "key = speakerAnalysisProject.readkeyfile('.keys')"
   ]
  },
  {
   "cell_type": "code",
   "execution_count": 52,
   "id": "0c20e3ca-bf97-4938-8246-1118bc69fe54",
   "metadata": {},
   "outputs": [
    {
     "name": "stdout",
     "output_type": "stream",
     "text": [
      "[['Speaker']]\n"
     ]
    }
   ],
   "source": [
    "# Use gspread api to access spreadsheet\n",
    "gc = gspread.api_key(key[0])\n",
    "\n",
    "sh = gc.open_by_url(\"https://docs.google.com/spreadsheets/d/10vC4mm2HWrlcGIY72Or04t9A3uDUTKhudUAIyPmkF8o/edit?gid=0#gid=0\")\n",
    "\n",
    "print(sh.sheet1.get('A1'))"
   ]
  },
  {
   "cell_type": "code",
   "execution_count": 64,
   "id": "b14cb3e1-587c-41b2-aed9-164a181016bf",
   "metadata": {},
   "outputs": [
    {
     "name": "stdout",
     "output_type": "stream",
     "text": [
      "Index(['Speaker', 'EDI member', 'Date', 'Type', 'CV?', 'UndergraduateName',\n",
      "       'UndergraduateCategory', 'GraduateName', 'GraduateCategory',\n",
      "       'Post-docName', 'Post-docCategory', 'InstitutionName',\n",
      "       'InstitutionCategory', 'Private/Public', 'Ivy/Other'],\n",
      "      dtype='object', name=0)\n"
     ]
    }
   ],
   "source": [
    "# Convert spreadsheet into pandas data frame\n",
    "data = sh.sheet1.get_all_values()\n",
    "headers = data.pop(0)\n",
    "\n",
    "df = speakerAnalysisProject.convertGStoPandas(data,headers)\n",
    "print(df.columns)"
   ]
  },
  {
   "cell_type": "code",
   "execution_count": 65,
   "id": "91c3c98b-a57f-44c6-b349-d8cc1aa09543",
   "metadata": {},
   "outputs": [
    {
     "name": "stdout",
     "output_type": "stream",
     "text": [
      "1.0\n",
      "0.3333333333333333\n",
      "0.75\n",
      "0.25\n"
     ]
    }
   ],
   "source": [
    "# Fraction of entries from an R1 instituion\n",
    "notempty = df['InstitutionCategory']!=''\n",
    "r1 = df['InstitutionCategory'] == 'R1'\n",
    "print(sum(r1)/sum(notempty))\n",
    "\n",
    "# Fraction of entries from an R1 undergraduate\n",
    "notempty = df['Post-docCategory']!=''\n",
    "r1 = df['Post-docCategory'] == 'R1'\n",
    "print(sum(r1)/sum(notempty))\n",
    "\n",
    "# Fraction of entries from an R1 graduate\n",
    "notempty = df['GraduateCategory']!=''\n",
    "r1 = df['GraduateCategory'] == 'R1'\n",
    "print(sum(r1)/sum(notempty))\n",
    "\n",
    "# Fraction of entries from an R1 undergraduate\n",
    "notempty = df['UndergraduateCategory']!=''\n",
    "r1 = df['UndergraduateCategory'] == 'R1'\n",
    "print(sum(r1)/sum(notempty))"
   ]
  }
 ],
 "metadata": {
  "kernelspec": {
   "display_name": "Python 3 (ipykernel)",
   "language": "python",
   "name": "python3"
  },
  "language_info": {
   "codemirror_mode": {
    "name": "ipython",
    "version": 3
   },
   "file_extension": ".py",
   "mimetype": "text/x-python",
   "name": "python",
   "nbconvert_exporter": "python",
   "pygments_lexer": "ipython3",
   "version": "3.9.5"
  }
 },
 "nbformat": 4,
 "nbformat_minor": 5
}
