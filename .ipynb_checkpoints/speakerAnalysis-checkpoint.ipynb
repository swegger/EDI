{
 "cells": [
  {
   "cell_type": "code",
   "execution_count": 196,
   "id": "3a424949-23a3-4516-b9cd-0d487468faf0",
   "metadata": {},
   "outputs": [
    {
     "data": {
      "text/plain": [
       "<module 'speakerAnalysis.speakerAnalysisProject' from '/home/seth/analysis/EDI/speakerAnalysis/speakerAnalysisProject.py'>"
      ]
     },
     "execution_count": 196,
     "metadata": {},
     "output_type": "execute_result"
    }
   ],
   "source": [
    "import gspread\n",
    "import pandas as pd\n",
    "import plotly\n",
    "#import kaleido\n",
    "\n",
    "from speakerAnalysis import speakerAnalysisProject\n",
    "\n",
    "from importlib import reload\n",
    "reload(speakerAnalysisProject)"
   ]
  },
  {
   "cell_type": "code",
   "execution_count": 158,
   "id": "6a2b8d34-dcc1-4547-98ca-581df15b22bb",
   "metadata": {},
   "outputs": [],
   "source": [
    "key = speakerAnalysisProject.readkeyfile('.keys')"
   ]
  },
  {
   "cell_type": "code",
   "execution_count": 159,
   "id": "0c20e3ca-bf97-4938-8246-1118bc69fe54",
   "metadata": {},
   "outputs": [
    {
     "name": "stdout",
     "output_type": "stream",
     "text": [
      "[['Speaker']]\n"
     ]
    }
   ],
   "source": [
    "# Use gspread api to access spreadsheet\n",
    "gc = gspread.api_key(key[0])\n",
    "\n",
    "sh = gc.open_by_url(\"https://docs.google.com/spreadsheets/d/10vC4mm2HWrlcGIY72Or04t9A3uDUTKhudUAIyPmkF8o/edit?gid=0#gid=0\")\n",
    "\n",
    "print(sh.sheet1.get('A1'))"
   ]
  },
  {
   "cell_type": "code",
   "execution_count": 160,
   "id": "b14cb3e1-587c-41b2-aed9-164a181016bf",
   "metadata": {},
   "outputs": [
    {
     "name": "stdout",
     "output_type": "stream",
     "text": [
      "Index(['Speaker', 'EDI member', 'Date', 'Type', 'CV?', 'UndergraduateName',\n",
      "       'UndergraduateCategory', 'GraduateName', 'GraduateCategory',\n",
      "       'Post-docName', 'Post-docCategory', 'InstitutionName',\n",
      "       'InstitutionCategory', 'Private/Public', 'Ivy/Other'],\n",
      "      dtype='object', name=0)\n"
     ]
    }
   ],
   "source": [
    "# Convert spreadsheet into pandas data frame\n",
    "data = sh.sheet1.get_all_values()\n",
    "headers = data.pop(0)\n",
    "\n",
    "df = speakerAnalysisProject.convertGStoPandas(data,headers)\n",
    "print(df.columns)"
   ]
  },
  {
   "cell_type": "code",
   "execution_count": 161,
   "id": "91c3c98b-a57f-44c6-b349-d8cc1aa09543",
   "metadata": {},
   "outputs": [
    {
     "name": "stdout",
     "output_type": "stream",
     "text": [
      "0.7307692307692307\n",
      "0.5384615384615384\n",
      "0.6538461538461539\n",
      "0.5769230769230769\n",
      "['R1' 'institute' 'special-focus' 'international']\n"
     ]
    }
   ],
   "source": [
    "# Fraction of entries from an R1 instituion\n",
    "notempty = df['InstitutionCategory']!=''\n",
    "r1 = df['InstitutionCategory'] == 'R1'\n",
    "print(sum(r1)/sum(notempty))\n",
    "\n",
    "# Fraction of entries from an R1 undergraduate\n",
    "notempty = df['Post-docCategory']!=''\n",
    "r1 = df['Post-docCategory'] == 'R1'\n",
    "print(sum(r1)/sum(notempty))\n",
    "\n",
    "# Fraction of entries from an R1 graduate\n",
    "notempty = df['GraduateCategory']!=''\n",
    "r1 = df['GraduateCategory'] == 'R1'\n",
    "print(sum(r1)/sum(notempty))\n",
    "\n",
    "# Fraction of entries from an R1 undergraduate\n",
    "notempty = df['UndergraduateCategory']!=''\n",
    "r1 = df['UndergraduateCategory'] == 'R1'\n",
    "print(sum(r1)/sum(notempty))\n",
    "\n",
    "print(df['InstitutionCategory'].unique())"
   ]
  },
  {
   "cell_type": "code",
   "execution_count": 162,
   "id": "589a07f3-4195-4eb6-ae00-9e922256d066",
   "metadata": {},
   "outputs": [
    {
     "name": "stdout",
     "output_type": "stream",
     "text": [
      "['GraduateCategoryR1', 'GraduateCategoryR2', 'GraduateCategoryinternational', 'GraduateCategoryspecial-focus', 'Post-docCategoryNIH', 'Post-docCategoryR1', 'Post-docCategoryR1,NIH,R1,R1', 'Post-docCategoryinstitute', 'Post-docCategoryinternational', 'Post-docCategoryinternational; R1', 'Post-docCategoryintstitute; R1', 'Post-docCategoryspecial-focus', 'UndergraduateCategoryR1', 'UndergraduateCategoryR2', 'UndergraduateCategoryinternational', 'UndergraduateCategoryliberal arts', 'UndergraduateCategoryno research', 'InstitutionCategoryR1', 'InstitutionCategoryinternational', 'InstitutionCategoryinstitute', 'InstitutionCategoryspecial-focus']\n"
     ]
    }
   ],
   "source": [
    "cat_cols=['UndergraduateCategory','GraduateCategory','Post-docCategory','InstitutionCategory']\n",
    "# cats = []\n",
    "# for i in range(len(cat_cols)):\n",
    "#     cats.append(df[cat_cols[i]].unique())\n",
    "#     print(cats[i])\n",
    "    \n",
    "for i in range(len(cat_cols)-1):\n",
    "    if i==0:\n",
    "        sourceTargetDf = df.groupby([cat_cols[i],cat_cols[i+1]]).size().reset_index().rename(columns={0:'count'})\n",
    "        sourceTargetDf.columns = ['source','target','count']\n",
    "        sourceTargetDf['source'] = cat_cols[i] + sourceTargetDf['source'].astype(str)\n",
    "        sourceTargetDf['target'] = cat_cols[i+1] + sourceTargetDf['target'].astype(str)\n",
    "    else:\n",
    "        tempDf = df.groupby([cat_cols[i],cat_cols[i+1]]).size().reset_index().rename(columns={0:'count'})\n",
    "        tempDf.columns = ['source','target','count']\n",
    "        tempDf['source'] = cat_cols[i] + tempDf['source'].astype(str)\n",
    "        tempDf['target'] = cat_cols[i+1] + tempDf['target'].astype(str)\n",
    "        sourceTargetDf = pd.concat([sourceTargetDf,tempDf])\n",
    "    sourceTargetDf = sourceTargetDf.groupby(['source','target']).agg({'count':'sum'}).reset_index()\n",
    "    #print(sourceTargetDf)\n",
    "\n",
    "temp = sourceTargetDf.groupby(['source','target']).size().reset_index().rename(columns={0:'count'})\n",
    "temp = pd.concat([temp['source'],temp['target']])\n",
    "print(list(dict.fromkeys(temp)))\n",
    "# temp2 = df.groupby([cat_cols[1],cat_cols[2]]).size().reset_index().rename(columns={0:'count'})\n",
    "# print(temp2)"
   ]
  },
  {
   "cell_type": "code",
   "execution_count": 168,
   "id": "9a09ddb0-0f04-4142-bd5b-49211d5b77e4",
   "metadata": {},
   "outputs": [
    {
     "data": {
      "text/plain": [
       "'temp-plot.html'"
      ]
     },
     "execution_count": 168,
     "metadata": {},
     "output_type": "execute_result"
    }
   ],
   "source": [
    "fig = speakerAnalysisProject.genSankey(df,cat_cols=['UndergraduateCategory','GraduateCategory','Post-docCategory','InstitutionCategory','Type'],title='Rearch categories')\n",
    "plotly.offline.plot(fig, validate=False)"
   ]
  },
  {
   "cell_type": "code",
   "execution_count": 176,
   "id": "2b3edbda-d78c-42ba-8ffa-b091e159ae76",
   "metadata": {},
   "outputs": [
    {
     "data": {
      "text/plain": [
       "'temp-plot.html'"
      ]
     },
     "execution_count": 176,
     "metadata": {},
     "output_type": "execute_result"
    }
   ],
   "source": [
    "fig = speakerAnalysisProject.genSankey(df,cat_cols=['UndergraduateName','GraduateName','Post-docName','InstitutionName','Private/Public'],title='Institution Names')\n",
    "plotly.offline.plot(fig, validate=False)"
   ]
  },
  {
   "cell_type": "code",
   "execution_count": 197,
   "id": "13ff2fcf-65c6-4fac-a51b-50474eb6de36",
   "metadata": {},
   "outputs": [
    {
     "ename": "ValueError",
     "evalue": "\nImage export using the \"kaleido\" engine requires the kaleido package,\nwhich can be installed using pip:\n    $ pip install -U kaleido\n",
     "output_type": "error",
     "traceback": [
      "\u001b[0;31m---------------------------------------------------------------------------\u001b[0m",
      "\u001b[0;31mValueError\u001b[0m                                Traceback (most recent call last)",
      "Cell \u001b[0;32mIn[197], line 3\u001b[0m\n\u001b[1;32m      1\u001b[0m fig \u001b[38;5;241m=\u001b[39m speakerAnalysisProject\u001b[38;5;241m.\u001b[39mgenSankey(df,cat_cols\u001b[38;5;241m=\u001b[39m[\u001b[38;5;124m'\u001b[39m\u001b[38;5;124mInstitutionCategory\u001b[39m\u001b[38;5;124m'\u001b[39m,\u001b[38;5;124m'\u001b[39m\u001b[38;5;124mPrivate/Public\u001b[39m\u001b[38;5;124m'\u001b[39m,\u001b[38;5;124m'\u001b[39m\u001b[38;5;124mType\u001b[39m\u001b[38;5;124m'\u001b[39m],title\u001b[38;5;241m=\u001b[39m\u001b[38;5;124m'\u001b[39m\u001b[38;5;124mPublic or private\u001b[39m\u001b[38;5;124m'\u001b[39m)\n\u001b[1;32m      2\u001b[0m handle \u001b[38;5;241m=\u001b[39m plotly\u001b[38;5;241m.\u001b[39mgraph_objects\u001b[38;5;241m.\u001b[39mFigure(fig)\n\u001b[0;32m----> 3\u001b[0m \u001b[43mhandle\u001b[49m\u001b[38;5;241;43m.\u001b[39;49m\u001b[43mshow\u001b[49m\u001b[43m(\u001b[49m\u001b[43mrenderer\u001b[49m\u001b[38;5;241;43m=\u001b[39;49m\u001b[38;5;124;43m'\u001b[39;49m\u001b[38;5;124;43mpng\u001b[39;49m\u001b[38;5;124;43m'\u001b[39;49m\u001b[43m)\u001b[49m\n",
      "File \u001b[0;32m~/.local/lib/python3.9/site-packages/plotly/basedatatypes.py:3410\u001b[0m, in \u001b[0;36mBaseFigure.show\u001b[0;34m(self, *args, **kwargs)\u001b[0m\n\u001b[1;32m   3377\u001b[0m \u001b[38;5;250m\u001b[39m\u001b[38;5;124;03m\"\"\"\u001b[39;00m\n\u001b[1;32m   3378\u001b[0m \u001b[38;5;124;03mShow a figure using either the default renderer(s) or the renderer(s)\u001b[39;00m\n\u001b[1;32m   3379\u001b[0m \u001b[38;5;124;03mspecified by the renderer argument\u001b[39;00m\n\u001b[0;32m   (...)\u001b[0m\n\u001b[1;32m   3406\u001b[0m \u001b[38;5;124;03mNone\u001b[39;00m\n\u001b[1;32m   3407\u001b[0m \u001b[38;5;124;03m\"\"\"\u001b[39;00m\n\u001b[1;32m   3408\u001b[0m \u001b[38;5;28;01mimport\u001b[39;00m \u001b[38;5;21;01mplotly\u001b[39;00m\u001b[38;5;21;01m.\u001b[39;00m\u001b[38;5;21;01mio\u001b[39;00m \u001b[38;5;28;01mas\u001b[39;00m \u001b[38;5;21;01mpio\u001b[39;00m\n\u001b[0;32m-> 3410\u001b[0m \u001b[38;5;28;01mreturn\u001b[39;00m \u001b[43mpio\u001b[49m\u001b[38;5;241;43m.\u001b[39;49m\u001b[43mshow\u001b[49m\u001b[43m(\u001b[49m\u001b[38;5;28;43mself\u001b[39;49m\u001b[43m,\u001b[49m\u001b[43m \u001b[49m\u001b[38;5;241;43m*\u001b[39;49m\u001b[43margs\u001b[49m\u001b[43m,\u001b[49m\u001b[43m \u001b[49m\u001b[38;5;241;43m*\u001b[39;49m\u001b[38;5;241;43m*\u001b[39;49m\u001b[43mkwargs\u001b[49m\u001b[43m)\u001b[49m\n",
      "File \u001b[0;32m~/.local/lib/python3.9/site-packages/plotly/io/_renderers.py:386\u001b[0m, in \u001b[0;36mshow\u001b[0;34m(fig, renderer, validate, **kwargs)\u001b[0m\n\u001b[1;32m    383\u001b[0m fig_dict \u001b[38;5;241m=\u001b[39m validate_coerce_fig_to_dict(fig, validate)\n\u001b[1;32m    385\u001b[0m \u001b[38;5;66;03m# Mimetype renderers\u001b[39;00m\n\u001b[0;32m--> 386\u001b[0m bundle \u001b[38;5;241m=\u001b[39m \u001b[43mrenderers\u001b[49m\u001b[38;5;241;43m.\u001b[39;49m\u001b[43m_build_mime_bundle\u001b[49m\u001b[43m(\u001b[49m\u001b[43mfig_dict\u001b[49m\u001b[43m,\u001b[49m\u001b[43m \u001b[49m\u001b[43mrenderers_string\u001b[49m\u001b[38;5;241;43m=\u001b[39;49m\u001b[43mrenderer\u001b[49m\u001b[43m,\u001b[49m\u001b[43m \u001b[49m\u001b[38;5;241;43m*\u001b[39;49m\u001b[38;5;241;43m*\u001b[39;49m\u001b[43mkwargs\u001b[49m\u001b[43m)\u001b[49m\n\u001b[1;32m    387\u001b[0m \u001b[38;5;28;01mif\u001b[39;00m bundle:\n\u001b[1;32m    388\u001b[0m     \u001b[38;5;28;01mif\u001b[39;00m \u001b[38;5;129;01mnot\u001b[39;00m ipython_display:\n",
      "File \u001b[0;32m~/.local/lib/python3.9/site-packages/plotly/io/_renderers.py:294\u001b[0m, in \u001b[0;36mRenderersConfig._build_mime_bundle\u001b[0;34m(self, fig_dict, renderers_string, **kwargs)\u001b[0m\n\u001b[1;32m    291\u001b[0m             \u001b[38;5;28;01mif\u001b[39;00m \u001b[38;5;28mhasattr\u001b[39m(renderer, k):\n\u001b[1;32m    292\u001b[0m                 \u001b[38;5;28msetattr\u001b[39m(renderer, k, v)\n\u001b[0;32m--> 294\u001b[0m         bundle\u001b[38;5;241m.\u001b[39mupdate(\u001b[43mrenderer\u001b[49m\u001b[38;5;241;43m.\u001b[39;49m\u001b[43mto_mimebundle\u001b[49m\u001b[43m(\u001b[49m\u001b[43mfig_dict\u001b[49m\u001b[43m)\u001b[49m)\n\u001b[1;32m    296\u001b[0m \u001b[38;5;28;01mreturn\u001b[39;00m bundle\n",
      "File \u001b[0;32m~/.local/lib/python3.9/site-packages/plotly/io/_base_renderers.py:126\u001b[0m, in \u001b[0;36mImageRenderer.to_mimebundle\u001b[0;34m(self, fig_dict)\u001b[0m\n\u001b[1;32m    125\u001b[0m \u001b[38;5;28;01mdef\u001b[39;00m \u001b[38;5;21mto_mimebundle\u001b[39m(\u001b[38;5;28mself\u001b[39m, fig_dict):\n\u001b[0;32m--> 126\u001b[0m     image_bytes \u001b[38;5;241m=\u001b[39m \u001b[43mto_image\u001b[49m\u001b[43m(\u001b[49m\n\u001b[1;32m    127\u001b[0m \u001b[43m        \u001b[49m\u001b[43mfig_dict\u001b[49m\u001b[43m,\u001b[49m\n\u001b[1;32m    128\u001b[0m \u001b[43m        \u001b[49m\u001b[38;5;28;43mformat\u001b[39;49m\u001b[38;5;241;43m=\u001b[39;49m\u001b[38;5;28;43mself\u001b[39;49m\u001b[38;5;241;43m.\u001b[39;49m\u001b[43mformat\u001b[49m\u001b[43m,\u001b[49m\n\u001b[1;32m    129\u001b[0m \u001b[43m        \u001b[49m\u001b[43mwidth\u001b[49m\u001b[38;5;241;43m=\u001b[39;49m\u001b[38;5;28;43mself\u001b[39;49m\u001b[38;5;241;43m.\u001b[39;49m\u001b[43mwidth\u001b[49m\u001b[43m,\u001b[49m\n\u001b[1;32m    130\u001b[0m \u001b[43m        \u001b[49m\u001b[43mheight\u001b[49m\u001b[38;5;241;43m=\u001b[39;49m\u001b[38;5;28;43mself\u001b[39;49m\u001b[38;5;241;43m.\u001b[39;49m\u001b[43mheight\u001b[49m\u001b[43m,\u001b[49m\n\u001b[1;32m    131\u001b[0m \u001b[43m        \u001b[49m\u001b[43mscale\u001b[49m\u001b[38;5;241;43m=\u001b[39;49m\u001b[38;5;28;43mself\u001b[39;49m\u001b[38;5;241;43m.\u001b[39;49m\u001b[43mscale\u001b[49m\u001b[43m,\u001b[49m\n\u001b[1;32m    132\u001b[0m \u001b[43m        \u001b[49m\u001b[43mvalidate\u001b[49m\u001b[38;5;241;43m=\u001b[39;49m\u001b[38;5;28;43;01mFalse\u001b[39;49;00m\u001b[43m,\u001b[49m\n\u001b[1;32m    133\u001b[0m \u001b[43m        \u001b[49m\u001b[43mengine\u001b[49m\u001b[38;5;241;43m=\u001b[39;49m\u001b[38;5;28;43mself\u001b[39;49m\u001b[38;5;241;43m.\u001b[39;49m\u001b[43mengine\u001b[49m\u001b[43m,\u001b[49m\n\u001b[1;32m    134\u001b[0m \u001b[43m    \u001b[49m\u001b[43m)\u001b[49m\n\u001b[1;32m    136\u001b[0m     \u001b[38;5;28;01mif\u001b[39;00m \u001b[38;5;28mself\u001b[39m\u001b[38;5;241m.\u001b[39mb64_encode:\n\u001b[1;32m    137\u001b[0m         image_str \u001b[38;5;241m=\u001b[39m base64\u001b[38;5;241m.\u001b[39mb64encode(image_bytes)\u001b[38;5;241m.\u001b[39mdecode(\u001b[38;5;124m\"\u001b[39m\u001b[38;5;124mutf8\u001b[39m\u001b[38;5;124m\"\u001b[39m)\n",
      "File \u001b[0;32m~/.local/lib/python3.9/site-packages/plotly/io/_kaleido.py:132\u001b[0m, in \u001b[0;36mto_image\u001b[0;34m(fig, format, width, height, scale, validate, engine)\u001b[0m\n\u001b[1;32m    130\u001b[0m     \u001b[38;5;66;03m# Raise informative error message if Kaleido is not installed\u001b[39;00m\n\u001b[1;32m    131\u001b[0m     \u001b[38;5;28;01mif\u001b[39;00m scope \u001b[38;5;129;01mis\u001b[39;00m \u001b[38;5;28;01mNone\u001b[39;00m:\n\u001b[0;32m--> 132\u001b[0m         \u001b[38;5;28;01mraise\u001b[39;00m \u001b[38;5;167;01mValueError\u001b[39;00m(\n\u001b[1;32m    133\u001b[0m \u001b[38;5;250m            \u001b[39m\u001b[38;5;124;03m\"\"\"\u001b[39;00m\n\u001b[1;32m    134\u001b[0m \u001b[38;5;124;03mImage export using the \"kaleido\" engine requires the kaleido package,\u001b[39;00m\n\u001b[1;32m    135\u001b[0m \u001b[38;5;124;03mwhich can be installed using pip:\u001b[39;00m\n\u001b[1;32m    136\u001b[0m \u001b[38;5;124;03m    $ pip install -U kaleido\u001b[39;00m\n\u001b[1;32m    137\u001b[0m \u001b[38;5;124;03m\"\"\"\u001b[39;00m\n\u001b[1;32m    138\u001b[0m         )\n\u001b[1;32m    140\u001b[0m     \u001b[38;5;66;03m# Validate figure\u001b[39;00m\n\u001b[1;32m    141\u001b[0m     \u001b[38;5;66;03m# ---------------\u001b[39;00m\n\u001b[1;32m    142\u001b[0m     fig_dict \u001b[38;5;241m=\u001b[39m validate_coerce_fig_to_dict(fig, validate)\n",
      "\u001b[0;31mValueError\u001b[0m: \nImage export using the \"kaleido\" engine requires the kaleido package,\nwhich can be installed using pip:\n    $ pip install -U kaleido\n"
     ]
    }
   ],
   "source": [
    "fig = speakerAnalysisProject.genSankey(df,cat_cols=['InstitutionCategory','Private/Public','Type'],title='Public or private')\n",
    "handle = plotly.graph_objects.Figure(fig)\n",
    "handle.show(renderer='png')"
   ]
  }
 ],
 "metadata": {
  "kernelspec": {
   "display_name": "Python 3 (ipykernel)",
   "language": "python",
   "name": "python3"
  },
  "language_info": {
   "codemirror_mode": {
    "name": "ipython",
    "version": 3
   },
   "file_extension": ".py",
   "mimetype": "text/x-python",
   "name": "python",
   "nbconvert_exporter": "python",
   "pygments_lexer": "ipython3",
   "version": "3.9.5"
  }
 },
 "nbformat": 4,
 "nbformat_minor": 5
}
